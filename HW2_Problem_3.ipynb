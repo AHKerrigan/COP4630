{
  "nbformat": 4,
  "nbformat_minor": 0,
  "metadata": {
    "colab": {
      "name": "HW2 Problem 3 ",
      "provenance": [],
      "collapsed_sections": []
    },
    "kernelspec": {
      "name": "python3",
      "display_name": "Python 3"
    }
  },
  "cells": [
    {
      "cell_type": "markdown",
      "metadata": {
        "id": "duafNTkNxqtg",
        "colab_type": "text"
      },
      "source": [
        "# HW2 - Problem 3\n"
      ]
    },
    {
      "cell_type": "code",
      "metadata": {
        "id": "Jr9TDuRc1NLj",
        "colab_type": "code",
        "colab": {}
      },
      "source": [
        "import tensorflow as tf\n",
        "from tensorflow import keras\n",
        "\n",
        "import matplotlib.pyplot as plt\n",
        "import numpy as np\n",
        "\n",
        "import matplotlib.pyplot as plt\n",
        "from keras.datasets import cifar10\n",
        "\n",
        "from keras.layers import Conv2D, MaxPooling2D, Dense, Activation, Flatten, Dropout\n",
        "from keras.models import Sequential\n",
        "from keras.optimizers import SGD\n",
        "\n",
        "(train_images, train_labels), (test_images, test_labels) = cifar10.load_data()\n",
        "num_classes = 10\n",
        "class_names = ['airplan', 'automobile', 'bird', 'cat', 'deer', 'dog', 'frog', 'horse', 'ship', 'truck']"
      ],
      "execution_count": 0,
      "outputs": []
    },
    {
      "cell_type": "code",
      "metadata": {
        "id": "_EiDSdR-72pB",
        "colab_type": "code",
        "colab": {}
      },
      "source": [
        "\n",
        "train_labels = keras.utils.to_categorical(train_labels, num_classes)\n",
        "test_labels = keras.utils.to_categorical(test_labels, num_classes)\n"
      ],
      "execution_count": 0,
      "outputs": []
    },
    {
      "cell_type": "code",
      "metadata": {
        "id": "VdrRSPtiBQ1R",
        "colab_type": "code",
        "colab": {
          "base_uri": "https://localhost:8080/",
          "height": 129
        },
        "outputId": "0ae7664a-404b-4453-e21b-f2da05089128"
      },
      "source": [
        ""
      ],
      "execution_count": 23,
      "outputs": [
        {
          "output_type": "error",
          "ename": "SyntaxError",
          "evalue": "ignored",
          "traceback": [
            "\u001b[0;36m  File \u001b[0;32m\"<ipython-input-23-d122a228ba94>\"\u001b[0;36m, line \u001b[0;32m1\u001b[0m\n\u001b[0;31m    \"test_labels\u001b[0m\n\u001b[0m                ^\u001b[0m\n\u001b[0;31mSyntaxError\u001b[0m\u001b[0;31m:\u001b[0m EOL while scanning string literal\n"
          ]
        }
      ]
    },
    {
      "cell_type": "code",
      "metadata": {
        "id": "Pru57Ihs850_",
        "colab_type": "code",
        "colab": {}
      },
      "source": [
        "train_images = train_images.astype('float32')\n",
        "test_images = test_images.astype('float32')\n",
        "train_images /= 255\n",
        "test_images /= 255"
      ],
      "execution_count": 0,
      "outputs": []
    },
    {
      "cell_type": "markdown",
      "metadata": {
        "id": "3WS_0-cMFayR",
        "colab_type": "text"
      },
      "source": [
        "# Overfit Model\n",
        "\n",
        "We will overfit the model in a very similar way to how we overfit Fashion MNIST. By using an absurd number of nodes in the dense stage of the network, the model will attempt to learn far too many hidden features than exist, which will enividbly lead to simply memorizing the training set."
      ]
    },
    {
      "cell_type": "code",
      "metadata": {
        "id": "MviluyQ_77mu",
        "colab_type": "code",
        "colab": {
          "base_uri": "https://localhost:8080/",
          "height": 1000
        },
        "outputId": "b6a45e19-1099-4bc5-ecef-c4afdb0b2fa6"
      },
      "source": [
        "\n",
        "def define_model():\n",
        "  model = Sequential()\n",
        "  model.add(Conv2D(32, (3, 3), activation='relu', kernel_initializer='he_uniform', padding='same', input_shape=(32, 32, 3)))\n",
        "  model.add(MaxPooling2D((2, 2)))\n",
        "  model.add(Flatten())\n",
        "  model.add(Dense(400, activation='sigmoid', kernel_initializer='he_uniform'))\n",
        "  model.add(Dense(200, activation='sigmoid'))\n",
        "  model.add(Dense(10, activation='softmax'))\n",
        "\t# compile model\n",
        "  opt = SGD(lr=0.001, momentum=0.9)\n",
        "  model.compile(optimizer=opt, loss='categorical_crossentropy', metrics=['accuracy'])\n",
        "  return model\n",
        "\n",
        "model = define_model()\n",
        "\n",
        "\n",
        "# train the model\n",
        "epochs = 50\n",
        "history = model.fit(train_images, \n",
        "                      train_labels, \n",
        "                      epochs=epochs,  \n",
        "                      validation_data=(test_images, test_labels),\n",
        "                      batch_size = 32)"
      ],
      "execution_count": 28,
      "outputs": [
        {
          "output_type": "stream",
          "text": [
            "Train on 50000 samples, validate on 10000 samples\n",
            "Epoch 1/50\n",
            "50000/50000 [==============================] - 111s 2ms/step - loss: 2.1352 - acc: 0.2446 - val_loss: 1.9919 - val_acc: 0.3002\n",
            "Epoch 2/50\n",
            "50000/50000 [==============================] - 111s 2ms/step - loss: 1.9250 - acc: 0.3185 - val_loss: 1.8721 - val_acc: 0.3398\n",
            "Epoch 3/50\n",
            "50000/50000 [==============================] - 111s 2ms/step - loss: 1.8317 - acc: 0.3564 - val_loss: 1.7907 - val_acc: 0.3676\n",
            "Epoch 4/50\n",
            "50000/50000 [==============================] - 111s 2ms/step - loss: 1.7492 - acc: 0.3835 - val_loss: 1.7010 - val_acc: 0.4002\n",
            "Epoch 5/50\n",
            "50000/50000 [==============================] - 111s 2ms/step - loss: 1.6697 - acc: 0.4075 - val_loss: 1.6240 - val_acc: 0.4174\n",
            "Epoch 6/50\n",
            "50000/50000 [==============================] - 112s 2ms/step - loss: 1.5984 - acc: 0.4275 - val_loss: 1.5774 - val_acc: 0.4354\n",
            "Epoch 7/50\n",
            "50000/50000 [==============================] - 112s 2ms/step - loss: 1.5375 - acc: 0.4511 - val_loss: 1.5013 - val_acc: 0.4555\n",
            "Epoch 8/50\n",
            "50000/50000 [==============================] - 111s 2ms/step - loss: 1.4849 - acc: 0.4665 - val_loss: 1.4488 - val_acc: 0.4789\n",
            "Epoch 9/50\n",
            "50000/50000 [==============================] - 112s 2ms/step - loss: 1.4348 - acc: 0.4846 - val_loss: 1.4084 - val_acc: 0.4969\n",
            "Epoch 10/50\n",
            "50000/50000 [==============================] - 111s 2ms/step - loss: 1.3890 - acc: 0.5010 - val_loss: 1.3709 - val_acc: 0.5055\n",
            "Epoch 11/50\n",
            "50000/50000 [==============================] - 112s 2ms/step - loss: 1.3501 - acc: 0.5137 - val_loss: 1.3358 - val_acc: 0.5202\n",
            "Epoch 12/50\n",
            "50000/50000 [==============================] - 112s 2ms/step - loss: 1.3141 - acc: 0.5252 - val_loss: 1.3179 - val_acc: 0.5271\n",
            "Epoch 13/50\n",
            "50000/50000 [==============================] - 112s 2ms/step - loss: 1.2811 - acc: 0.5426 - val_loss: 1.2789 - val_acc: 0.5422\n",
            "Epoch 14/50\n",
            "50000/50000 [==============================] - 112s 2ms/step - loss: 1.2483 - acc: 0.5536 - val_loss: 1.2568 - val_acc: 0.5467\n",
            "Epoch 15/50\n",
            "50000/50000 [==============================] - 113s 2ms/step - loss: 1.2227 - acc: 0.5624 - val_loss: 1.2505 - val_acc: 0.5553\n",
            "Epoch 16/50\n",
            "50000/50000 [==============================] - 112s 2ms/step - loss: 1.1967 - acc: 0.5731 - val_loss: 1.2149 - val_acc: 0.5645\n",
            "Epoch 17/50\n",
            "50000/50000 [==============================] - 113s 2ms/step - loss: 1.1712 - acc: 0.5819 - val_loss: 1.1936 - val_acc: 0.5783\n",
            "Epoch 18/50\n",
            "50000/50000 [==============================] - 112s 2ms/step - loss: 1.1488 - acc: 0.5911 - val_loss: 1.1695 - val_acc: 0.5815\n",
            "Epoch 19/50\n",
            "50000/50000 [==============================] - 111s 2ms/step - loss: 1.1233 - acc: 0.6025 - val_loss: 1.1805 - val_acc: 0.5808\n",
            "Epoch 20/50\n",
            "50000/50000 [==============================] - 111s 2ms/step - loss: 1.1017 - acc: 0.6093 - val_loss: 1.1305 - val_acc: 0.6045\n",
            "Epoch 21/50\n",
            "50000/50000 [==============================] - 111s 2ms/step - loss: 1.0795 - acc: 0.6164 - val_loss: 1.1274 - val_acc: 0.6048\n",
            "Epoch 22/50\n",
            "50000/50000 [==============================] - 111s 2ms/step - loss: 1.0574 - acc: 0.6249 - val_loss: 1.0981 - val_acc: 0.6128\n",
            "Epoch 23/50\n",
            "50000/50000 [==============================] - 111s 2ms/step - loss: 1.0384 - acc: 0.6319 - val_loss: 1.1104 - val_acc: 0.6068\n",
            "Epoch 24/50\n",
            "50000/50000 [==============================] - 111s 2ms/step - loss: 1.0173 - acc: 0.6398 - val_loss: 1.0790 - val_acc: 0.6208\n",
            "Epoch 25/50\n",
            "50000/50000 [==============================] - 111s 2ms/step - loss: 0.9982 - acc: 0.6491 - val_loss: 1.0685 - val_acc: 0.6258\n",
            "Epoch 26/50\n",
            "50000/50000 [==============================] - 111s 2ms/step - loss: 0.9756 - acc: 0.6543 - val_loss: 1.0739 - val_acc: 0.6242\n",
            "Epoch 27/50\n",
            "50000/50000 [==============================] - 111s 2ms/step - loss: 0.9556 - acc: 0.6651 - val_loss: 1.0519 - val_acc: 0.6295\n",
            "Epoch 28/50\n",
            "50000/50000 [==============================] - 113s 2ms/step - loss: 0.9370 - acc: 0.6688 - val_loss: 1.0747 - val_acc: 0.6228\n",
            "Epoch 29/50\n",
            "50000/50000 [==============================] - 111s 2ms/step - loss: 0.9200 - acc: 0.6771 - val_loss: 1.0327 - val_acc: 0.6404\n",
            "Epoch 30/50\n",
            "50000/50000 [==============================] - 112s 2ms/step - loss: 0.8985 - acc: 0.6845 - val_loss: 1.0722 - val_acc: 0.6231\n",
            "Epoch 31/50\n",
            "50000/50000 [==============================] - 112s 2ms/step - loss: 0.8808 - acc: 0.6918 - val_loss: 0.9985 - val_acc: 0.6491\n",
            "Epoch 32/50\n",
            "50000/50000 [==============================] - 113s 2ms/step - loss: 0.8608 - acc: 0.6977 - val_loss: 1.0047 - val_acc: 0.6512\n",
            "Epoch 33/50\n",
            "50000/50000 [==============================] - 113s 2ms/step - loss: 0.8434 - acc: 0.7038 - val_loss: 1.0091 - val_acc: 0.6401\n",
            "Epoch 34/50\n",
            "50000/50000 [==============================] - 114s 2ms/step - loss: 0.8272 - acc: 0.7106 - val_loss: 1.0517 - val_acc: 0.6305\n",
            "Epoch 35/50\n",
            "50000/50000 [==============================] - 113s 2ms/step - loss: 0.8071 - acc: 0.7171 - val_loss: 0.9909 - val_acc: 0.6518\n",
            "Epoch 36/50\n",
            "50000/50000 [==============================] - 113s 2ms/step - loss: 0.7883 - acc: 0.7248 - val_loss: 0.9667 - val_acc: 0.6650\n",
            "Epoch 37/50\n",
            "50000/50000 [==============================] - 112s 2ms/step - loss: 0.7687 - acc: 0.7318 - val_loss: 0.9915 - val_acc: 0.6545\n",
            "Epoch 38/50\n",
            "50000/50000 [==============================] - 111s 2ms/step - loss: 0.7522 - acc: 0.7387 - val_loss: 1.0131 - val_acc: 0.6499\n",
            "Epoch 39/50\n",
            "50000/50000 [==============================] - 112s 2ms/step - loss: 0.7330 - acc: 0.7451 - val_loss: 0.9547 - val_acc: 0.6756\n",
            "Epoch 40/50\n",
            "50000/50000 [==============================] - 111s 2ms/step - loss: 0.7180 - acc: 0.7490 - val_loss: 0.9760 - val_acc: 0.6616\n",
            "Epoch 41/50\n",
            "50000/50000 [==============================] - 111s 2ms/step - loss: 0.6969 - acc: 0.7581 - val_loss: 0.9798 - val_acc: 0.6613\n",
            "Epoch 42/50\n",
            "50000/50000 [==============================] - 111s 2ms/step - loss: 0.6804 - acc: 0.7644 - val_loss: 0.9695 - val_acc: 0.6670\n",
            "Epoch 43/50\n",
            "50000/50000 [==============================] - 111s 2ms/step - loss: 0.6609 - acc: 0.7723 - val_loss: 0.9487 - val_acc: 0.6722\n",
            "Epoch 44/50\n",
            "50000/50000 [==============================] - 111s 2ms/step - loss: 0.6424 - acc: 0.7784 - val_loss: 0.9889 - val_acc: 0.6630\n",
            "Epoch 45/50\n",
            "50000/50000 [==============================] - 112s 2ms/step - loss: 0.6236 - acc: 0.7849 - val_loss: 0.9788 - val_acc: 0.6637\n",
            "Epoch 46/50\n",
            "50000/50000 [==============================] - 112s 2ms/step - loss: 0.6037 - acc: 0.7935 - val_loss: 0.9486 - val_acc: 0.6794\n",
            "Epoch 47/50\n",
            "50000/50000 [==============================] - 112s 2ms/step - loss: 0.5830 - acc: 0.8007 - val_loss: 1.0327 - val_acc: 0.6545\n",
            "Epoch 48/50\n",
            "50000/50000 [==============================] - 112s 2ms/step - loss: 0.5661 - acc: 0.8078 - val_loss: 0.9382 - val_acc: 0.6824\n",
            "Epoch 49/50\n",
            "50000/50000 [==============================] - 112s 2ms/step - loss: 0.5470 - acc: 0.8160 - val_loss: 0.9390 - val_acc: 0.6831\n",
            "Epoch 50/50\n",
            "50000/50000 [==============================] - 112s 2ms/step - loss: 0.5278 - acc: 0.8229 - val_loss: 0.9415 - val_acc: 0.6866\n"
          ],
          "name": "stdout"
        }
      ]
    },
    {
      "cell_type": "code",
      "metadata": {
        "id": "6px5BJml84hQ",
        "colab_type": "code",
        "colab": {
          "base_uri": "https://localhost:8080/",
          "height": 282
        },
        "outputId": "30582f82-5896-4d58-a114-561fad0c4fbe"
      },
      "source": [
        "plt.plot(history.history['acc'], label=\"Train\")\n",
        "plt.plot(history.history['val_acc'], label=\"Validation\")\n",
        "plt.legend()"
      ],
      "execution_count": 29,
      "outputs": [
        {
          "output_type": "execute_result",
          "data": {
            "text/plain": [
              "<matplotlib.legend.Legend at 0x7fea72d2a240>"
            ]
          },
          "metadata": {
            "tags": []
          },
          "execution_count": 29
        },
        {
          "output_type": "display_data",
          "data": {
            "image/png": "[encoded data removed]",
            "text/plain": [
              "<Figure size 432x288 with 1 Axes>"
            ]
          },
          "metadata": {
            "tags": []
          }
        }
      ]
    },
    {
      "cell_type": "markdown",
      "metadata": {
        "id": "GiH72tZpdUn8",
        "colab_type": "text"
      },
      "source": [
        "# Underfit model\n",
        "To underfit the model, we can abuse max pooling. The purpose of max pooling is to extract the most important features found in a convolution. However, the problem with this is that if the max pool is too big (in this case 12x12), most of the information from the convolution will be lost. We can further worsen the situation by having the model filter into a small number of dense nodes, resulting in model being unable to learn much of anything."
      ]
    },
    {
      "cell_type": "code",
      "metadata": {
        "id": "6RlSTROAdOoN",
        "colab_type": "code",
        "colab": {
          "base_uri": "https://localhost:8080/",
          "height": 1000
        },
        "outputId": "34e2ec62-839a-4e52-fbf6-1677c8cbbfe0"
      },
      "source": [
        "def define_model():\n",
        "  model = Sequential()\n",
        "  model.add(Conv2D(32, (3,3), padding='same', input_shape=(32, 32, 3)))\n",
        "  model.add(Activation('sigmoid'))\n",
        "  model.add(MaxPooling2D(pool_size=(12,12)))\n",
        "  model.add(Conv2D(32, (3,3), padding='same', ))\n",
        "  model.add(Activation('sigmoid'))\n",
        "  model.add(Dense(3))\n",
        "  model.add(Activation('sigmoid'))\n",
        "  model.add(Flatten())\n",
        "  model.add(Dense(num_classes, activation='softmax'))\n",
        " \n",
        "\t# compile model\n",
        "  opt = SGD(lr=0.001, momentum=0.9)\n",
        "  model.compile(optimizer=opt, loss='categorical_crossentropy', metrics=['accuracy'])\n",
        "  return model\n",
        "\n",
        "model = define_model()\n",
        "\n",
        "\n",
        "# train the model\n",
        "epochs = 50\n",
        "history = model.fit(train_images, \n",
        "                      train_labels, \n",
        "                      epochs=epochs,  \n",
        "                      validation_data=(test_images, test_labels),\n",
        "                      batch_size = 32)\n",
        "model = define_model()\n"
      ],
      "execution_count": 49,
      "outputs": [
        {
          "output_type": "stream",
          "text": [
            "Train on 50000 samples, validate on 10000 samples\n",
            "Epoch 1/50\n",
            "50000/50000 [==============================] - 37s 750us/step - loss: 2.3091 - acc: 0.0983 - val_loss: 2.3030 - val_acc: 0.1001\n",
            "Epoch 2/50\n",
            "50000/50000 [==============================] - 37s 735us/step - loss: 2.3032 - acc: 0.1013 - val_loss: 2.3030 - val_acc: 0.1000\n",
            "Epoch 3/50\n",
            "50000/50000 [==============================] - 36s 723us/step - loss: 2.3032 - acc: 0.0999 - val_loss: 2.3030 - val_acc: 0.1000\n",
            "Epoch 4/50\n",
            "50000/50000 [==============================] - 37s 730us/step - loss: 2.3031 - acc: 0.0995 - val_loss: 2.3024 - val_acc: 0.1000\n",
            "Epoch 5/50\n",
            "50000/50000 [==============================] - 36s 719us/step - loss: 2.3029 - acc: 0.0996 - val_loss: 2.3032 - val_acc: 0.1000\n",
            "Epoch 6/50\n",
            "50000/50000 [==============================] - 36s 728us/step - loss: 2.3028 - acc: 0.1017 - val_loss: 2.3027 - val_acc: 0.1000\n",
            "Epoch 7/50\n",
            "50000/50000 [==============================] - 36s 718us/step - loss: 2.3027 - acc: 0.1019 - val_loss: 2.3021 - val_acc: 0.1000\n",
            "Epoch 8/50\n",
            "50000/50000 [==============================] - 36s 722us/step - loss: 2.3026 - acc: 0.1013 - val_loss: 2.3023 - val_acc: 0.1000\n",
            "Epoch 9/50\n",
            "50000/50000 [==============================] - 36s 728us/step - loss: 2.3025 - acc: 0.1033 - val_loss: 2.3024 - val_acc: 0.1000\n",
            "Epoch 10/50\n",
            "50000/50000 [==============================] - 36s 729us/step - loss: 2.3023 - acc: 0.1041 - val_loss: 2.3023 - val_acc: 0.1000\n",
            "Epoch 11/50\n",
            "50000/50000 [==============================] - 37s 731us/step - loss: 2.3023 - acc: 0.1037 - val_loss: 2.3016 - val_acc: 0.1000\n",
            "Epoch 12/50\n",
            "50000/50000 [==============================] - 37s 738us/step - loss: 2.3019 - acc: 0.1047 - val_loss: 2.3021 - val_acc: 0.1000\n",
            "Epoch 13/50\n",
            "50000/50000 [==============================] - 36s 730us/step - loss: 2.3018 - acc: 0.1065 - val_loss: 2.3017 - val_acc: 0.1301\n",
            "Epoch 14/50\n",
            "50000/50000 [==============================] - 37s 731us/step - loss: 2.3019 - acc: 0.1059 - val_loss: 2.3011 - val_acc: 0.1000\n",
            "Epoch 15/50\n",
            "50000/50000 [==============================] - 37s 734us/step - loss: 2.3015 - acc: 0.1096 - val_loss: 2.3010 - val_acc: 0.1000\n",
            "Epoch 16/50\n",
            "50000/50000 [==============================] - 37s 738us/step - loss: 2.3012 - acc: 0.1071 - val_loss: 2.3010 - val_acc: 0.1000\n",
            "Epoch 17/50\n",
            "50000/50000 [==============================] - 37s 740us/step - loss: 2.3010 - acc: 0.1127 - val_loss: 2.3003 - val_acc: 0.1266\n",
            "Epoch 18/50\n",
            "50000/50000 [==============================] - 36s 720us/step - loss: 2.3007 - acc: 0.1129 - val_loss: 2.3006 - val_acc: 0.1131\n",
            "Epoch 19/50\n",
            "50000/50000 [==============================] - 37s 734us/step - loss: 2.3004 - acc: 0.1148 - val_loss: 2.2999 - val_acc: 0.1065\n",
            "Epoch 20/50\n",
            "50000/50000 [==============================] - 36s 720us/step - loss: 2.3000 - acc: 0.1143 - val_loss: 2.2999 - val_acc: 0.1000\n",
            "Epoch 21/50\n",
            "50000/50000 [==============================] - 37s 733us/step - loss: 2.2996 - acc: 0.1141 - val_loss: 2.2995 - val_acc: 0.1073\n",
            "Epoch 22/50\n",
            "50000/50000 [==============================] - 36s 714us/step - loss: 2.2991 - acc: 0.1212 - val_loss: 2.2986 - val_acc: 0.1000\n",
            "Epoch 23/50\n",
            "50000/50000 [==============================] - 36s 712us/step - loss: 2.2985 - acc: 0.1226 - val_loss: 2.2977 - val_acc: 0.1466\n",
            "Epoch 24/50\n",
            "50000/50000 [==============================] - 36s 717us/step - loss: 2.2979 - acc: 0.1327 - val_loss: 2.2973 - val_acc: 0.1409\n",
            "Epoch 25/50\n",
            "50000/50000 [==============================] - 36s 725us/step - loss: 2.2971 - acc: 0.1349 - val_loss: 2.2971 - val_acc: 0.1180\n",
            "Epoch 26/50\n",
            "50000/50000 [==============================] - 36s 726us/step - loss: 2.2961 - acc: 0.1285 - val_loss: 2.2957 - val_acc: 0.1273\n",
            "Epoch 27/50\n",
            "50000/50000 [==============================] - 37s 735us/step - loss: 2.2952 - acc: 0.1468 - val_loss: 2.2942 - val_acc: 0.1464\n",
            "Epoch 28/50\n",
            "50000/50000 [==============================] - 37s 740us/step - loss: 2.2939 - acc: 0.1414 - val_loss: 2.2928 - val_acc: 0.2067\n",
            "Epoch 29/50\n",
            "50000/50000 [==============================] - 37s 738us/step - loss: 2.2924 - acc: 0.1537 - val_loss: 2.2908 - val_acc: 0.1915\n",
            "Epoch 30/50\n",
            "50000/50000 [==============================] - 36s 720us/step - loss: 2.2903 - acc: 0.1470 - val_loss: 2.2894 - val_acc: 0.1429\n",
            "Epoch 31/50\n",
            "50000/50000 [==============================] - 36s 726us/step - loss: 2.2880 - acc: 0.1580 - val_loss: 2.2861 - val_acc: 0.1754\n",
            "Epoch 32/50\n",
            "50000/50000 [==============================] - 35s 708us/step - loss: 2.2849 - acc: 0.1654 - val_loss: 2.2830 - val_acc: 0.1993\n",
            "Epoch 33/50\n",
            "50000/50000 [==============================] - 36s 712us/step - loss: 2.2809 - acc: 0.1681 - val_loss: 2.2783 - val_acc: 0.1799\n",
            "Epoch 34/50\n",
            "50000/50000 [==============================] - 36s 713us/step - loss: 2.2755 - acc: 0.1764 - val_loss: 2.2723 - val_acc: 0.1710\n",
            "Epoch 35/50\n",
            "50000/50000 [==============================] - 36s 718us/step - loss: 2.2681 - acc: 0.1845 - val_loss: 2.2624 - val_acc: 0.2098\n",
            "Epoch 36/50\n",
            "50000/50000 [==============================] - 37s 730us/step - loss: 2.2577 - acc: 0.1920 - val_loss: 2.2498 - val_acc: 0.2149\n",
            "Epoch 37/50\n",
            "50000/50000 [==============================] - 36s 728us/step - loss: 2.2425 - acc: 0.2033 - val_loss: 2.2319 - val_acc: 0.1934\n",
            "Epoch 38/50\n",
            "50000/50000 [==============================] - 37s 746us/step - loss: 2.2213 - acc: 0.2030 - val_loss: 2.2054 - val_acc: 0.2212\n",
            "Epoch 39/50\n",
            "50000/50000 [==============================] - 37s 736us/step - loss: 2.1921 - acc: 0.2084 - val_loss: 2.1717 - val_acc: 0.2142\n",
            "Epoch 40/50\n",
            "50000/50000 [==============================] - 37s 741us/step - loss: 2.1565 - acc: 0.2142 - val_loss: 2.1326 - val_acc: 0.2177\n",
            "Epoch 41/50\n",
            "50000/50000 [==============================] - 37s 732us/step - loss: 2.1189 - acc: 0.2191 - val_loss: 2.0953 - val_acc: 0.2377\n",
            "Epoch 42/50\n",
            "50000/50000 [==============================] - 37s 736us/step - loss: 2.0839 - acc: 0.2266 - val_loss: 2.0627 - val_acc: 0.2236\n",
            "Epoch 43/50\n",
            "50000/50000 [==============================] - 36s 728us/step - loss: 2.0548 - acc: 0.2355 - val_loss: 2.0357 - val_acc: 0.2338\n",
            "Epoch 44/50\n",
            "50000/50000 [==============================] - 37s 734us/step - loss: 2.0306 - acc: 0.2404 - val_loss: 2.0130 - val_acc: 0.2436\n",
            "Epoch 45/50\n",
            "50000/50000 [==============================] - 37s 741us/step - loss: 2.0096 - acc: 0.2503 - val_loss: 1.9931 - val_acc: 0.2539\n",
            "Epoch 46/50\n",
            "50000/50000 [==============================] - 37s 738us/step - loss: 1.9902 - acc: 0.2559 - val_loss: 1.9739 - val_acc: 0.2590\n",
            "Epoch 47/50\n",
            "50000/50000 [==============================] - 37s 739us/step - loss: 1.9711 - acc: 0.2611 - val_loss: 1.9576 - val_acc: 0.2635\n",
            "Epoch 48/50\n",
            "50000/50000 [==============================] - 37s 733us/step - loss: 1.9532 - acc: 0.2678 - val_loss: 1.9406 - val_acc: 0.2672\n",
            "Epoch 49/50\n",
            "50000/50000 [==============================] - 36s 712us/step - loss: 1.9353 - acc: 0.2714 - val_loss: 1.9235 - val_acc: 0.2773\n",
            "Epoch 50/50\n",
            "50000/50000 [==============================] - 36s 726us/step - loss: 1.9201 - acc: 0.2759 - val_loss: 1.9097 - val_acc: 0.2797\n"
          ],
          "name": "stdout"
        }
      ]
    },
    {
      "cell_type": "code",
      "metadata": {
        "id": "FonsAv4SoU1P",
        "colab_type": "code",
        "colab": {
          "base_uri": "https://localhost:8080/",
          "height": 282
        },
        "outputId": "bf6e298e-2159-4917-a228-bf1e894dcecf"
      },
      "source": [
        "plt.plot(history.history['acc'], label=\"Train\")\n",
        "plt.plot(history.history['val_acc'], label=\"Validation\")\n",
        "plt.legend()"
      ],
      "execution_count": 50,
      "outputs": [
        {
          "output_type": "execute_result",
          "data": {
            "text/plain": [
              "<matplotlib.legend.Legend at 0x7fea71650080>"
            ]
          },
          "metadata": {
            "tags": []
          },
          "execution_count": 50
        },
        {
          "output_type": "display_data",
          "data": {
            "image/png": "[encoded data removed]",
            "text/plain": [
              "<Figure size 432x288 with 1 Axes>"
            ]
          },
          "metadata": {
            "tags": []
          }
        }
      ]
    },
    {
      "cell_type": "markdown",
      "metadata": {
        "id": "4au4E3vumKZp",
        "colab_type": "text"
      },
      "source": [
        "# Just right model\n",
        "\n",
        "Cifar10 is not a simple dataset, so optimal models tend to use some sort of transfer learning to get decent results. However, we can still employ a fairly boilerplate model to get decent results "
      ]
    },
    {
      "cell_type": "code",
      "metadata": {
        "id": "XjYVtqQxdshB",
        "colab_type": "code",
        "colab": {
          "base_uri": "https://localhost:8080/",
          "height": 272
        },
        "outputId": "efc91426-7a9a-457a-bef3-fa2459d06b70"
      },
      "source": [
        "def define_model():\n",
        "  model = Sequential()\n",
        "  model.add(Conv2D(32, (3,3), padding='same', input_shape=(32, 32, 3)))\n",
        "  model.add(Activation('relu'))\n",
        "  model.add(MaxPooling2D(pool_size=(2,2)))\n",
        "  model.add(Conv2D(32, (3,3), padding='same', ))\n",
        "  model.add(MaxPooling2D(pool_size=(2,2)))\n",
        "  model.add(Activation('relu'))\n",
        "  model.add(Flatten())\n",
        "  model.add(Dense(128))\n",
        "  model.add(Activation('relu'))\n",
        "  model.add(Dense(32))\n",
        "  model.add(Activation('relu'))\n",
        "  model.add(Dense(num_classes, activation='softmax'))\n",
        " \n",
        "\t# compile model\n",
        "  opt = SGD(lr=0.001, momentum=0.9)\n",
        "  model.compile(optimizer=opt, loss='categorical_crossentropy', metrics=['accuracy'])\n",
        "  return model\n",
        "\n",
        "model = define_model()\n",
        "\n",
        "\n",
        "# train the model\n",
        "epochs = 50\n",
        "history = model.fit(train_images, \n",
        "                      train_labels, \n",
        "                      epochs=epochs,  \n",
        "                      validation_data=(test_images, test_labels),\n",
        "                      batch_size = 32)\n",
        "model = define_model()"
      ],
      "execution_count": 0,
      "outputs": [
        {
          "output_type": "stream",
          "text": [
            "Train on 50000 samples, validate on 10000 samples\n",
            "Epoch 1/50\n",
            "50000/50000 [==============================] - 79s 2ms/step - loss: 2.0049 - acc: 0.2757 - val_loss: 1.7364 - val_acc: 0.3839\n",
            "Epoch 2/50\n",
            "50000/50000 [==============================] - 78s 2ms/step - loss: 1.5910 - acc: 0.4264 - val_loss: 1.4660 - val_acc: 0.4639\n",
            "Epoch 3/50\n",
            "50000/50000 [==============================] - 78s 2ms/step - loss: 1.4204 - acc: 0.4898 - val_loss: 1.3651 - val_acc: 0.5078\n",
            "Epoch 4/50\n",
            "50000/50000 [==============================] - 79s 2ms/step - loss: 1.3109 - acc: 0.5326 - val_loss: 1.2725 - val_acc: 0.5447\n",
            "Epoch 5/50\n",
            "50000/50000 [==============================] - 78s 2ms/step - loss: 1.2295 - acc: 0.5624 - val_loss: 1.1755 - val_acc: 0.5843\n",
            "Epoch 6/50\n",
            "50000/50000 [==============================] - 78s 2ms/step - loss: 1.1480 - acc: 0.5946 - val_loss: 1.1535 - val_acc: 0.5960\n",
            "Epoch 7/50\n",
            " 5536/50000 [==>...........................] - ETA: 1:06 - loss: 1.1135 - acc: 0.6053"
          ],
          "name": "stdout"
        }
      ]
    },
    {
      "cell_type": "code",
      "metadata": {
        "id": "UqYMEdDAoVr8",
        "colab_type": "code",
        "colab": {}
      },
      "source": [
        "plt.plot(history.history['acc'], label=\"Train\")\n",
        "plt.plot(history.history['val_acc'], label=\"Validation\")\n",
        "plt.legend()"
      ],
      "execution_count": 0,
      "outputs": []
    }
  ]
}